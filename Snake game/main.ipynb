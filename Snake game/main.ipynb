{
 "cells": [
  {
   "cell_type": "code",
   "execution_count": 1,
   "id": "f892fe28",
   "metadata": {},
   "outputs": [
    {
     "name": "stdout",
     "output_type": "stream",
     "text": [
      "[(100.00,-180.00), (120.00,-180.00), (140.00,-180.00), (140.00,-200.00), (140.00,-220.00), (120.00,-220.00), (100.00,-220.00), (100.00,-200.00), (100.00,-180.00), (100.00,-160.00), (100.00,-140.00), (100.00,-120.00), (100.00,-100.00)]\n",
      "(100.00,-180.00)\n"
     ]
    }
   ],
   "source": [
    "from turtle import Screen, Turtle\n",
    "from snake import Snake\n",
    "from food import Food\n",
    "from scoreboard import Scoreboard\n",
    "is_game_on = True\n",
    "\n",
    "snake = Snake(width=600, height=600)\n",
    "food = Food()\n",
    "scoreboard = Scoreboard()\n",
    "\n",
    "while is_game_on:\n",
    "    snake.screen.update()\n",
    "    snake.move()\n",
    "    # Detect collision with food\n",
    "    if (snake.segments[0].distance(food)<=15) or (snake.segments[2].distance(food)<=15):\n",
    "        food.refresh()\n",
    "        scoreboard.increase_score()\n",
    "        snake.extend()\n",
    "        \n",
    "    snake.position()\n",
    "    pose_seg1 = snake.poses[0]   \n",
    "    # Detect collision with wall\n",
    "    if (pose_seg1[0]>snake.width/2) or (pose_seg1[1]>snake.height/2) or (pose_seg1[0]<-1*snake.width/2) or (pose_seg1[1]<-1*snake.height/2):\n",
    "        is_game_on = False\n",
    "        scoreboard.update_highest_score()\n",
    "        scoreboard.update_scoreboard()\n",
    "        scoreboard.game_over()\n",
    "        snake.reset()\n",
    "        \n",
    "     # Detect collision with tail\n",
    "    snake.position()\n",
    "    pose_seg1 = snake.poses[0]\n",
    "    if (pose_seg1 in snake.poses[1:]): #ignore the first segment\n",
    "        is_game_on = False\n",
    "        scoreboard.update_highest_score()\n",
    "        scoreboard.update_scoreboard()\n",
    "        scoreboard.game_over()\n",
    "        snake.reset()\n",
    "        \n",
    "print(list(snake.poses))\n",
    "print(pose_seg1)\n",
    "snake.screen.exitonclick()"
   ]
  },
  {
   "cell_type": "code",
   "execution_count": null,
   "id": "658e33ed-2874-42ae-a6d0-2bdb71592d9e",
   "metadata": {},
   "outputs": [],
   "source": []
  },
  {
   "cell_type": "code",
   "execution_count": null,
   "id": "8e7fbb8e-103e-460d-a9c9-5de00edeb358",
   "metadata": {},
   "outputs": [],
   "source": []
  }
 ],
 "metadata": {
  "kernelspec": {
   "display_name": "Python 3 (ipykernel)",
   "language": "python",
   "name": "python3"
  },
  "language_info": {
   "codemirror_mode": {
    "name": "ipython",
    "version": 3
   },
   "file_extension": ".py",
   "mimetype": "text/x-python",
   "name": "python",
   "nbconvert_exporter": "python",
   "pygments_lexer": "ipython3",
   "version": "3.12.4"
  }
 },
 "nbformat": 4,
 "nbformat_minor": 5
}
