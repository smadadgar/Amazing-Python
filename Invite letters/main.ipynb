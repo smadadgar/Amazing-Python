{
 "cells": [
  {
   "cell_type": "code",
   "execution_count": 15,
   "id": "8604303c",
   "metadata": {},
   "outputs": [],
   "source": [
    "#TODO: Create a letter using starting_letter.txt \n",
    "#for each name in invited_names.txt\n",
    "#Replace the [name] placeholder with the actual name.\n",
    "#Save the letters in the folder \"ReadyToSend\".\n",
    "    \n",
    "PLACE_HOLDER = \"[name]\"\n",
    "\n",
    "with open(\"./Input/Names/invited_names.txt\") as names_file:\n",
    "    names = names_file.readlines() # a list of all lines (each line is one of the list element)\n",
    "\n",
    "with open(\"./Input/Letters/starting_letter.txt\") as letter_file:\n",
    "    letter = letter_file.read()\n",
    "    for name in names:\n",
    "        name_trim = name.strip() # remove \\n and spaces before and after the text\n",
    "        new_letter = letter.replace(PLACE_HOLDER,name_trim)\n",
    "        with open(f\"./Output/ReadyToSend/letter_for_{name_trim}.txt\",\"w\") as sent_letter_file:\n",
    "            sent_letter_file.write(new_letter)"
   ]
  },
  {
   "cell_type": "code",
   "execution_count": null,
   "id": "bf62ce2d",
   "metadata": {},
   "outputs": [],
   "source": []
  }
 ],
 "metadata": {
  "kernelspec": {
   "display_name": "Python 3 (ipykernel)",
   "language": "python",
   "name": "python3"
  },
  "language_info": {
   "codemirror_mode": {
    "name": "ipython",
    "version": 3
   },
   "file_extension": ".py",
   "mimetype": "text/x-python",
   "name": "python",
   "nbconvert_exporter": "python",
   "pygments_lexer": "ipython3",
   "version": "3.12.4"
  }
 },
 "nbformat": 4,
 "nbformat_minor": 5
}
