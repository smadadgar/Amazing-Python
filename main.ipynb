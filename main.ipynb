{
 "cells": [
  {
   "cell_type": "code",
   "execution_count": 1,
   "id": "3d90c332",
   "metadata": {},
   "outputs": [],
   "source": [
    "from tkinter import *\n",
    "import pandas as pd\n",
    "import random\n",
    "import time\n",
    "\n",
    "BACKGROUND_COLOR = \"#B1DDC6\"\n",
    "\n",
    "##--------------------- functions ------------------------\n",
    "def next_word():\n",
    "    # create new word\n",
    "    global timer, current_card\n",
    "    window.after_cancel(timer)\n",
    "    \n",
    "    current_card = random.choice(to_learn)\n",
    "    canvas.itemconfig(convas_image, image = front_img)\n",
    "    canvas.itemconfig(line1, text = \"French\", fill = 'black')\n",
    "    canvas.itemconfig(line2, text = f\"{current_card['French']}\",  fill = 'black')\n",
    "    timer = window.after(3 * 1000, flip_card)\n",
    "    \n",
    "\n",
    "def flip_card():\n",
    "    canvas.itemconfig(convas_image, image = back_img)\n",
    "    canvas.itemconfig(line1, text = \"English\", fill = 'white')\n",
    "    canvas.itemconfig(line2, text = f\"{current_card['English']}\",  fill = 'white')\n",
    "    \n",
    "def remove_word():\n",
    "    global words_to_learn\n",
    "    to_learn.remove(current_card)\n",
    "    to_learn_df = pd.DataFrame.from_dict(to_learn)\n",
    "    to_learn_df.to_csv('./data/words_to_learn.csv', index= False)\n",
    "    \n",
    "def next_and_update():\n",
    "    remove_word()\n",
    "    next_word()\n",
    "    \n",
    "##--------------------- code body ------------------------\n",
    "# read data\n",
    "try:\n",
    "    data = pd.read_csv(\"./data/words_to_learn.csv\")\n",
    "except:\n",
    "    data = pd.read_csv(\"./data/french_words.csv\")\n",
    "\n",
    "to_learn = pd.DataFrame.to_dict(data, orient = 'records') # to_learn is a list of dicts\n",
    "\n",
    "\n",
    "window = Tk()\n",
    "window.title(\"Flash Cards\")\n",
    "window.config(padx=50, pady=50, bg = BACKGROUND_COLOR)\n",
    "\n",
    "timer = window.after(3 * 1000, flip_card)\n",
    "\n",
    "# add canvas\n",
    "canvas = Canvas(height=300, width=400, bg = BACKGROUND_COLOR, highlightbackground = BACKGROUND_COLOR)\n",
    "# define images\n",
    "front_img = PhotoImage(file = \"./images/card_front.png\")\n",
    "front_img = front_img.subsample(2)\n",
    "\n",
    "back_img = PhotoImage(file = \"./images/card_back.png\")\n",
    "back_img = back_img.subsample(2)\n",
    "\n",
    "# first flashcard\n",
    "convas_image = canvas.create_image(200, 150, image = front_img)\n",
    "current_card = random.choice(to_learn)\n",
    "line1 = canvas.create_text(200, 120, text = \"French\", font = (\"Arial\", 20, 'italic'))\n",
    "line2 = canvas.create_text(200, 170, text = f\"{current_card['French']}\", font = (\"Arial\", 30))\n",
    "canvas.grid(row=0, column=0 , columnspan = 2)\n",
    "\n",
    "# add buttons\n",
    "cross_image = PhotoImage(file = \"./images/wrong.png\")\n",
    "cross_button = Button(image = cross_image, command = next_word)\n",
    "cross_button.grid(row=1, column = 0)\n",
    "\n",
    "check_image = PhotoImage(file = \"./images/right.png\")\n",
    "check_button = Button(image = check_image, command = next_and_update) \n",
    "check_button.grid(row=1, column = 1)\n",
    "\n",
    "window.mainloop()"
   ]
  },
  {
   "cell_type": "code",
   "execution_count": 2,
   "id": "335d97be",
   "metadata": {},
   "outputs": [
    {
     "data": {
      "text/plain": [
       "101"
      ]
     },
     "execution_count": 2,
     "metadata": {},
     "output_type": "execute_result"
    }
   ],
   "source": [
    "range_data"
   ]
  },
  {
   "cell_type": "code",
   "execution_count": 31,
   "id": "dde6b1ba",
   "metadata": {},
   "outputs": [
    {
     "name": "stdout",
     "output_type": "stream",
     "text": [
      "        French    English\n",
      "0       partie       part\n",
      "1     histoire    history\n",
      "2     chercher     search\n",
      "3    seulement       only\n",
      "4       police     police\n",
      "..         ...        ...\n",
      "96      plutôt     rather\n",
      "97        aura  will have\n",
      "98      filles      girls\n",
      "99       jouer    to play\n",
      "100     bureau     office\n",
      "\n",
      "[101 rows x 2 columns]\n",
      "{'French': 'police', 'English': 'police'}\n",
      "{'French': 'police', 'English': 'police'}\n",
      "      French    English\n",
      "0     partie       part\n",
      "1   histoire    history\n",
      "2   chercher     search\n",
      "3     police     police\n",
      "4    pensais    thought\n",
      "..       ...        ...\n",
      "95    plutôt     rather\n",
      "96      aura  will have\n",
      "97    filles      girls\n",
      "98     jouer    to play\n",
      "99    bureau     office\n",
      "\n",
      "[100 rows x 2 columns]\n"
     ]
    }
   ],
   "source": [
    "print(data)\n",
    "import pandas\n",
    "d = pandas.DataFrame.to_dict(data, orient='records')\n",
    "print(d[4])\n",
    "d.remove(d[3])\n",
    "print(d[3])\n",
    "dd = pandas.DataFrame.from_dict(d)\n",
    "print(dd)"
   ]
  },
  {
   "cell_type": "code",
   "execution_count": 38,
   "id": "0fce8a80",
   "metadata": {},
   "outputs": [
    {
     "data": {
      "text/plain": [
       "{'French': 'frère', 'English': 'brother'}"
      ]
     },
     "execution_count": 38,
     "metadata": {},
     "output_type": "execute_result"
    }
   ],
   "source": [
    "current_card"
   ]
  },
  {
   "cell_type": "code",
   "execution_count": null,
   "id": "fc979a4a",
   "metadata": {},
   "outputs": [],
   "source": []
  }
 ],
 "metadata": {
  "kernelspec": {
   "display_name": "Python 3 (ipykernel)",
   "language": "python",
   "name": "python3"
  },
  "language_info": {
   "codemirror_mode": {
    "name": "ipython",
    "version": 3
   },
   "file_extension": ".py",
   "mimetype": "text/x-python",
   "name": "python",
   "nbconvert_exporter": "python",
   "pygments_lexer": "ipython3",
   "version": "3.12.4"
  }
 },
 "nbformat": 4,
 "nbformat_minor": 5
}
