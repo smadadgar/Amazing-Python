{
 "cells": [
  {
   "cell_type": "code",
   "execution_count": null,
   "id": "8e9668d6",
   "metadata": {
    "scrolled": true
   },
   "outputs": [],
   "source": [
    "import turtle\n",
    "import time\n",
    "import pandas as pd\n",
    "\n",
    "screen = turtle.Screen()\n",
    "screen.title(\"U.S. States Game\")\n",
    "\n",
    "image = \"blank_states_img.gif\"\n",
    "screen.bgpic(image)\n",
    "turtle.hideturtle()\n",
    "turtle.penup()\n",
    "#print(screen.screensize())\n",
    "\n",
    "data = pd.read_csv(\"50_states.csv\")\n",
    "state_list = data[\"state\"].to_list()\n",
    "score = 0\n",
    "correct_answers = []\n",
    "while len(correct_answers)<len(state_list):\n",
    "    answer_state = screen.textinput(title = f\"Guess the State - {score}/50\", prompt = \"What's another State's name?\").title()\n",
    "    if answer_state == 'Exit':\n",
    "        break\n",
    "    if answer_state in state_list:\n",
    "        correct_answers.append(answer_state)\n",
    "        row = data[data.state == answer_state]\n",
    "        new_x = float(row.x)\n",
    "        new_y = float(row.y)\n",
    "        turtle.goto(new_x, new_y)\n",
    "        turtle.write(row.state.item())\n",
    "        score += 1\n",
    "\n",
    "missed_states = [state for state in state_list if state not in correct_answers]\n",
    "\n",
    "my_dict = {\"states\": missed_states}\n",
    "my_df = pd.DataFrame(my_dict)\n",
    "my_df.to_csv(\"states_to_learn.csv\")\n",
    "\n",
    "screen.exitonclick()"
   ]
  }
 ],
 "metadata": {
  "kernelspec": {
   "display_name": "Python 3 (ipykernel)",
   "language": "python",
   "name": "python3"
  },
  "language_info": {
   "codemirror_mode": {
    "name": "ipython",
    "version": 3
   },
   "file_extension": ".py",
   "mimetype": "text/x-python",
   "name": "python",
   "nbconvert_exporter": "python",
   "pygments_lexer": "ipython3",
   "version": "3.12.4"
  }
 },
 "nbformat": 4,
 "nbformat_minor": 5
}
