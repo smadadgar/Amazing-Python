{
 "cells": [
  {
   "cell_type": "code",
   "execution_count": null,
   "id": "1a630749",
   "metadata": {},
   "outputs": [],
   "source": [
    "# Keyword Method with iterrows()\n",
    "# {new_key:new_value for (index, row) in df.iterrows()}\n",
    "\n",
    "import pandas\n",
    "\n",
    "data = pandas.read_csv(\"nato_phonetic_alphabet.csv\")\n",
    "#TODO 1. Create a dictionary in this format:\n",
    "phonetic_dict = {row.letter: row.code for (index, row) in data.iterrows()}\n",
    "print(phonetic_dict)\n",
    "\n",
    "#TODO 2. Create a list of the phonetic code words from a word that the user inputs.\n",
    "word = \"ENTER\"\n",
    "while word!=\"EXIT\":\n",
    "    word = input(\"Enter a word: \").upper()\n",
    "    try:\n",
    "        output_list = [phonetic_dict[letter] for letter in word]\n",
    "    except KeyError:\n",
    "        print(\"Sorry, only letters in the alphabet please!\")\n",
    "    else:\n",
    "        print(output_list)"
   ]
  },
  {
   "cell_type": "code",
   "execution_count": null,
   "id": "3e3d892a",
   "metadata": {
    "scrolled": true
   },
   "outputs": [],
   "source": [
    "# The following code is also an alternative\n",
    "import pandas\n",
    "\n",
    "data = pandas.read_csv(\"nato_phonetic_alphabet.csv\")\n",
    "#TODO 1. Create a dictionary in this format:\n",
    "phonetic_dict = {row.letter: row.code for (index, row) in data.iterrows()}\n",
    "print(phonetic_dict)\n",
    "\n",
    "#TODO 2. Create a list of the phonetic code words from a word that the user inputs.\n",
    "def generate_phonetics():\n",
    "    word = input(\"Enter a word: \").upper()\n",
    "    try:\n",
    "        output_list = [phonetic_dict[letter] for letter in word]\n",
    "    except KeyError:\n",
    "        print(\"Sorry, only letters in the alphabet please!\")\n",
    "        generate_phonetics()\n",
    "    else:\n",
    "        print(output_list)\n",
    "        \n",
    "generate_phonetics()"
   ]
  },
  {
   "cell_type": "code",
   "execution_count": null,
   "id": "6e217fc9",
   "metadata": {},
   "outputs": [],
   "source": []
  }
 ],
 "metadata": {
  "kernelspec": {
   "display_name": "Python 3 (ipykernel)",
   "language": "python",
   "name": "python3"
  },
  "language_info": {
   "codemirror_mode": {
    "name": "ipython",
    "version": 3
   },
   "file_extension": ".py",
   "mimetype": "text/x-python",
   "name": "python",
   "nbconvert_exporter": "python",
   "pygments_lexer": "ipython3",
   "version": "3.12.4"
  }
 },
 "nbformat": 4,
 "nbformat_minor": 5
}
