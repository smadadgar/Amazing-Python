{
 "cells": [
  {
   "cell_type": "code",
   "execution_count": null,
   "id": "ea741269",
   "metadata": {},
   "outputs": [],
   "source": [
    "# project: turtle race\n",
    "from turtle import Turtle, Screen\n",
    "import random\n",
    "\n",
    "screen = Screen()\n",
    "screen.setup(width = 500, height = 400)\n",
    "is_race_on = False\n",
    "user_bet = screen.textinput(title= \"Make your bet\", prompt = \"Which turtle will win the race? Enter a color: \")\n",
    "colors = [\"red\", \"orange\", \"yellow\", \"green\", \"blue\", \"purple\"]\n",
    "\n",
    "if user_bet in colors:\n",
    "    is_race_on = True\n",
    "    \n",
    "if is_race_on:\n",
    "    dy = 300/5\n",
    "    all_turtles = []\n",
    "    for i_turtle in range(0,6):\n",
    "        new_turtle = Turtle(shape = \"turtle\")\n",
    "        new_turtle.color(colors[i_turtle])\n",
    "        y_start = -150 + dy * i_turtle\n",
    "        new_turtle.penup()\n",
    "        new_turtle.goto(x=-230, y=y_start)\n",
    "        all_turtles.append(new_turtle)\n",
    "else:\n",
    "    print(\"Sorry,your bet is not a valid turtle!\")\n",
    "\n",
    "while is_race_on:\n",
    "    for turtle in all_turtles:\n",
    "        rand_distance = random.randint(0,10)\n",
    "        turtle.forward(rand_distance)\n",
    "        current_x = turtle.xcor()\n",
    "        if current_x >= 250:\n",
    "            winning_color = turtle.pencolor()\n",
    "            is_race_on = False\n",
    "if winning_color == user_bet:\n",
    "    print(\"You win!\")\n",
    "else:\n",
    "    print(f\"You lose! The winner is the {winning_color} turtle\")\n",
    "    \n",
    "screen.exitonclick()"
   ]
  }
 ],
 "metadata": {
  "kernelspec": {
   "display_name": "Python 3 (ipykernel)",
   "language": "python",
   "name": "python3"
  },
  "language_info": {
   "codemirror_mode": {
    "name": "ipython",
    "version": 3
   },
   "file_extension": ".py",
   "mimetype": "text/x-python",
   "name": "python",
   "nbconvert_exporter": "python",
   "pygments_lexer": "ipython3",
   "version": "3.12.4"
  }
 },
 "nbformat": 4,
 "nbformat_minor": 5
}
