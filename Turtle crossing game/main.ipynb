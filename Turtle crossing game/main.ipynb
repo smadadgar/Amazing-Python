{
 "cells": [
  {
   "cell_type": "code",
   "execution_count": 1,
   "id": "6c470021",
   "metadata": {},
   "outputs": [],
   "source": [
    "# Turtle crossing game\n",
    "from turtle import Screen\n",
    "from cars import Cars\n",
    "from passenger import Passenger\n",
    "from scoreboard import Scoreboard\n",
    "import time\n",
    "import random\n",
    "\n",
    "screen = Screen()\n",
    "screen.setup(width = 800, height = 600)\n",
    "screen.bgcolor(\"white\")\n",
    "screen.title(\"Turtle Crossing\")\n",
    "screen.tracer(0)\n",
    "screen.colormode(255)\n",
    "\n",
    "passenger = Passenger()\n",
    "screen.listen()\n",
    "screen.onkey(passenger.move,\"Up\")\n",
    "\n",
    "scoreboard = Scoreboard()\n",
    "\n",
    "all_cars = []\n",
    "is_game_on = True\n",
    "loop_cnt = 0\n",
    "while is_game_on:\n",
    "    loop_cnt += 1\n",
    "    time.sleep(0.1 * passenger.control_speed) # speed controls the speed of passenger\n",
    "    screen.update()\n",
    "    if loop_cnt % 6 == 0:\n",
    "        car_count = random.randint(1,3)\n",
    "        for _ in range(car_count): # create cars in each loop\n",
    "            new_car = Cars()\n",
    "            all_cars.append(new_car)\n",
    "    for car in all_cars: # move all cars one step forward\n",
    "        status = car.move()\n",
    "        if status==0:\n",
    "            all_cars.remove(car)\n",
    "            \n",
    "    # detect if the passenger reached the other side of the street\n",
    "    if passenger.ycor() >= 280:\n",
    "        passenger.cross_again()\n",
    "        scoreboard.level_up()\n",
    "    \n",
    "    # detect passenger's collision with any car\n",
    "    for car in all_cars:\n",
    "        if car.distance(passenger) < 10:\n",
    "            scoreboard.game_over()\n",
    "            is_game_on = False\n",
    "            break\n",
    "    \n",
    "screen.exitonclick()"
   ]
  },
  {
   "cell_type": "code",
   "execution_count": null,
   "id": "7cf1179a",
   "metadata": {},
   "outputs": [],
   "source": []
  }
 ],
 "metadata": {
  "kernelspec": {
   "display_name": "Python 3 (ipykernel)",
   "language": "python",
   "name": "python3"
  },
  "language_info": {
   "codemirror_mode": {
    "name": "ipython",
    "version": 3
   },
   "file_extension": ".py",
   "mimetype": "text/x-python",
   "name": "python",
   "nbconvert_exporter": "python",
   "pygments_lexer": "ipython3",
   "version": "3.12.4"
  }
 },
 "nbformat": 4,
 "nbformat_minor": 5
}
