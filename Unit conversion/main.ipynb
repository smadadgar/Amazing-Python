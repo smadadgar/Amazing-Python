{
 "cells": [
  {
   "cell_type": "code",
   "execution_count": 13,
   "id": "fbd85c5f",
   "metadata": {},
   "outputs": [],
   "source": [
    "import tkinter\n",
    "\n",
    "window = tkinter.Tk()\n",
    "window.minsize(width = 300, height = 200)\n",
    "window.title(\"Mile to Km Convertor\")\n",
    "\n",
    "# add an entry\n",
    "my_entry = tkinter.Entry(width = 10)\n",
    "my_entry.grid(column=1,row=0)\n",
    "\n",
    "# add bunch of labels\n",
    "label2 = tkinter.Label(text = \"Miles\", font = (\"Arial\", 14))\n",
    "label2.config(padx=10 , pady=10)\n",
    "label2.grid(column=2,row=0)\n",
    "\n",
    "label3 = tkinter.Label(text = \"is equal to\", font = (\"Arial\", 14))\n",
    "label3.config(padx=10 , pady=10)\n",
    "label3.grid(column=0,row=1)\n",
    "\n",
    "label4 = tkinter.Label(text = \"Km\", font = (\"Arial\", 14))\n",
    "label4.config(padx=10 , pady=10)\n",
    "label4.grid(column=2,row=1)\n",
    "\n",
    "label5 = tkinter.Label(text = \"0\", font = (\"Arial\", 14))\n",
    "label5.config(padx=10 , pady=10)\n",
    "label5.grid(column=1,row=1)\n",
    "\n",
    "# add a button\n",
    "def button_clicked():\n",
    "    miles = float(my_entry.get())\n",
    "    label5[\"text\"] = miles * 1.6\n",
    "\n",
    "my_button = tkinter.Button(text = \"Calculate\", command = button_clicked)\n",
    "my_button.config(padx=10 , pady=10)\n",
    "my_button.grid(column=1,row=2)\n",
    "\n",
    "\n",
    "\n",
    "window.mainloop()"
   ]
  },
  {
   "cell_type": "code",
   "execution_count": null,
   "id": "63d008a6",
   "metadata": {},
   "outputs": [],
   "source": []
  }
 ],
 "metadata": {
  "kernelspec": {
   "display_name": "Python 3 (ipykernel)",
   "language": "python",
   "name": "python3"
  },
  "language_info": {
   "codemirror_mode": {
    "name": "ipython",
    "version": 3
   },
   "file_extension": ".py",
   "mimetype": "text/x-python",
   "name": "python",
   "nbconvert_exporter": "python",
   "pygments_lexer": "ipython3",
   "version": "3.9.13"
  }
 },
 "nbformat": 4,
 "nbformat_minor": 5
}
