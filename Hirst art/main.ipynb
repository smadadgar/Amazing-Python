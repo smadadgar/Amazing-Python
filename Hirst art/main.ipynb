{
 "cells": [
  {
   "cell_type": "code",
   "execution_count": 1,
   "id": "81374ad4",
   "metadata": {},
   "outputs": [],
   "source": [
    "# Drawing the dots\n",
    "import colorgram\n",
    "import random\n",
    "import turtle as t\n",
    "\n",
    "timmy = t.Turtle()\n",
    "timmy.shape(\"arrow\")\n",
    "timmy.speed(\"fastest\")\n",
    "t.colormode(255)\n",
    "\n",
    "colors = colorgram.extract(\"Hirst.jpg\",200)\n",
    "rgb_colors = []\n",
    "for color in colors:\n",
    "    r = color.rgb.r\n",
    "    g = color.rgb.g\n",
    "    b = color.rgb.b\n",
    "    rgb_colors.append((r,g,b)) # append a tuple to the list\n",
    "    \n",
    "def draw_dot():\n",
    "    color_choice = random.choice(rgb_colors)\n",
    "    timmy.pendown()\n",
    "    timmy.dot(20,color_choice)\n",
    "    timmy.penup()\n",
    "    timmy.forward(50)\n",
    "    \n",
    "timmy.setheading(0)\n",
    "timmy.penup()\n",
    "timmy.setpos(-200,-200)\n",
    "for y in range(1,11):\n",
    "    for x in range(1,10):\n",
    "        draw_dot()\n",
    "    timmy.setheading(90)\n",
    "    timmy.forward(50)\n",
    "    timmy.setheading(y*180)\n",
    "\n",
    "timmy.hideturtle()    \n",
    "        \n",
    "screen = t.Screen()\n",
    "screen.exitonclick()\n"
   ]
  }
 ],
 "metadata": {
  "kernelspec": {
   "display_name": "Python 3 (ipykernel)",
   "language": "python",
   "name": "python3"
  },
  "language_info": {
   "codemirror_mode": {
    "name": "ipython",
    "version": 3
   },
   "file_extension": ".py",
   "mimetype": "text/x-python",
   "name": "python",
   "nbconvert_exporter": "python",
   "pygments_lexer": "ipython3",
   "version": "3.12.4"
  }
 },
 "nbformat": 4,
 "nbformat_minor": 5
}
